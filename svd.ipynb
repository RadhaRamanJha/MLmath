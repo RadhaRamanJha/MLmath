{
 "cells": [
  {
   "cell_type": "code",
   "execution_count": 1,
   "id": "cec68d9b",
   "metadata": {},
   "outputs": [],
   "source": [
    "import numpy as np\n",
    "np.set_printoptions(precision=4,suppress=True)\n",
    "# precision - to set the number of decimal places the float will be printed\n",
    "# Supress - if set True a float number will be displayed in numerical form else scientific form"
   ]
  },
  {
   "cell_type": "markdown",
   "id": "20dbaeec",
   "metadata": {},
   "source": [
    "### Example mxn matrix where m < n"
   ]
  },
  {
   "cell_type": "code",
   "execution_count": 2,
   "id": "b682ac00",
   "metadata": {},
   "outputs": [],
   "source": [
    "a = np.array([[1,2,3,4],[1,1,2,3],[0,1,1,0]])"
   ]
  },
  {
   "cell_type": "code",
   "execution_count": 4,
   "id": "820cf714",
   "metadata": {},
   "outputs": [
    {
     "name": "stdout",
     "output_type": "stream",
     "text": [
      "[[1 2 3 4]\n",
      " [1 1 2 3]\n",
      " [0 1 1 0]]\n"
     ]
    }
   ],
   "source": [
    "print(a)"
   ]
  },
  {
   "cell_type": "markdown",
   "id": "9ddd7bc3",
   "metadata": {},
   "source": [
    "### Apply SVD"
   ]
  },
  {
   "cell_type": "code",
   "execution_count": 5,
   "id": "cbf2992d",
   "metadata": {},
   "outputs": [],
   "source": [
    "u, s, vh = np.linalg.svd(a, full_matrices=True)"
   ]
  },
  {
   "cell_type": "code",
   "execution_count": 6,
   "id": "108ccaa3",
   "metadata": {},
   "outputs": [
    {
     "name": "stdout",
     "output_type": "stream",
     "text": [
      "[[ 0.8109 -0.0934  0.5776]\n",
      " [ 0.57    0.3493 -0.7437]\n",
      " [ 0.1323 -0.9324 -0.3365]]\n"
     ]
    }
   ],
   "source": [
    "print(u)"
   ]
  },
  {
   "cell_type": "code",
   "execution_count": 7,
   "id": "1bfa66e9",
   "metadata": {
    "scrolled": true
   },
   "outputs": [
    {
     "data": {
      "text/plain": [
       "array([[ 1.,  0.,  0.],\n",
       "       [ 0.,  1., -0.],\n",
       "       [ 0., -0.,  1.]])"
      ]
     },
     "execution_count": 7,
     "metadata": {},
     "output_type": "execute_result"
    }
   ],
   "source": [
    "u.dot(u.T)"
   ]
  },
  {
   "cell_type": "code",
   "execution_count": 8,
   "id": "81304650",
   "metadata": {},
   "outputs": [
    {
     "data": {
      "text/plain": [
       "array([[ 1.,  0.,  0., -0.],\n",
       "       [ 0.,  1.,  0., -0.],\n",
       "       [ 0.,  0.,  1., -0.],\n",
       "       [-0., -0., -0.,  1.]])"
      ]
     },
     "execution_count": 8,
     "metadata": {},
     "output_type": "execute_result"
    }
   ],
   "source": [
    "vh.dot(vh.T)"
   ]
  },
  {
   "cell_type": "markdown",
   "id": "2a3828be",
   "metadata": {},
   "source": [
    "### Hence u and vh are orthogonal matrices"
   ]
  },
  {
   "cell_type": "code",
   "execution_count": 9,
   "id": "e9c42255",
   "metadata": {
    "scrolled": false
   },
   "outputs": [
    {
     "data": {
      "text/plain": [
       "array([6.7509, 1.1734, 0.2186])"
      ]
     },
     "execution_count": 9,
     "metadata": {},
     "output_type": "execute_result"
    }
   ],
   "source": [
    "s"
   ]
  },
  {
   "cell_type": "markdown",
   "id": "3a5ca0f6",
   "metadata": {},
   "source": [
    "### The first singular value of the matric is 6.7509, second singular value is 1.1734 and third singular value is 0.2186"
   ]
  },
  {
   "cell_type": "code",
   "execution_count": 10,
   "id": "62147e29",
   "metadata": {
    "scrolled": true
   },
   "outputs": [
    {
     "name": "stdout",
     "output_type": "stream",
     "text": [
      "(3, 3) (3,) (4, 4)\n"
     ]
    }
   ],
   "source": [
    "print(u.shape, s.shape, vh.shape)"
   ]
  },
  {
   "cell_type": "code",
   "execution_count": 11,
   "id": "011d1d51",
   "metadata": {},
   "outputs": [
    {
     "name": "stdout",
     "output_type": "stream",
     "text": [
      "[6.7509 1.1734 0.2186]\n"
     ]
    }
   ],
   "source": [
    "print(s)"
   ]
  },
  {
   "cell_type": "markdown",
   "id": "570264d2",
   "metadata": {},
   "source": [
    "### Since s is given simply as a 3-element numpy array, we need to reshape it into a 3x4 array with the 3 elements along its diagonal. Below is one way to do it - not the only way to do it"
   ]
  },
  {
   "cell_type": "code",
   "execution_count": 12,
   "id": "dd09b244",
   "metadata": {},
   "outputs": [],
   "source": [
    "sd = np.diag(s) # makes a 3x3 diagonal martix with x along the diagonal"
   ]
  },
  {
   "cell_type": "code",
   "execution_count": 13,
   "id": "d9425611",
   "metadata": {},
   "outputs": [
    {
     "name": "stdout",
     "output_type": "stream",
     "text": [
      "[[6.7509 0.     0.    ]\n",
      " [0.     1.1734 0.    ]\n",
      " [0.     0.     0.2186]]\n"
     ]
    }
   ],
   "source": [
    "print(sd)"
   ]
  },
  {
   "cell_type": "code",
   "execution_count": 14,
   "id": "4deec6c2",
   "metadata": {},
   "outputs": [
    {
     "data": {
      "text/plain": [
       "(3, 3)"
      ]
     },
     "execution_count": 14,
     "metadata": {},
     "output_type": "execute_result"
    }
   ],
   "source": [
    "sd.shape"
   ]
  },
  {
   "cell_type": "code",
   "execution_count": 15,
   "id": "c30982a9",
   "metadata": {},
   "outputs": [],
   "source": [
    "b = np.zeros((3,4))"
   ]
  },
  {
   "cell_type": "code",
   "execution_count": 16,
   "id": "915a353b",
   "metadata": {},
   "outputs": [
    {
     "name": "stdout",
     "output_type": "stream",
     "text": [
      "[[0. 0. 0. 0.]\n",
      " [0. 0. 0. 0.]\n",
      " [0. 0. 0. 0.]]\n"
     ]
    }
   ],
   "source": [
    "print(b)"
   ]
  },
  {
   "cell_type": "code",
   "execution_count": 17,
   "id": "22ba664a",
   "metadata": {},
   "outputs": [],
   "source": [
    "b[:,:-1] = sd"
   ]
  },
  {
   "cell_type": "code",
   "execution_count": 18,
   "id": "549b9198",
   "metadata": {},
   "outputs": [
    {
     "name": "stdout",
     "output_type": "stream",
     "text": [
      "[[6.7509 0.     0.     0.    ]\n",
      " [0.     1.1734 0.     0.    ]\n",
      " [0.     0.     0.2186 0.    ]]\n"
     ]
    }
   ],
   "source": [
    "sigma = b\n",
    "print(sigma)"
   ]
  },
  {
   "cell_type": "code",
   "execution_count": 19,
   "id": "5b4f8e3a",
   "metadata": {},
   "outputs": [
    {
     "name": "stdout",
     "output_type": "stream",
     "text": [
      "[[1. 2. 3. 4.]\n",
      " [1. 1. 2. 3.]\n",
      " [0. 1. 1. 0.]]\n"
     ]
    }
   ],
   "source": [
    "print(np.dot(np.dot(u,sigma),vh)) # Reconstruction 'a' as product of 'u', 'sigma', 'vh'"
   ]
  },
  {
   "cell_type": "markdown",
   "id": "9459da92",
   "metadata": {},
   "source": [
    "### Currently the rank of a is 3 lets make a 2 rank approximation of matrix a"
   ]
  },
  {
   "cell_type": "code",
   "execution_count": 20,
   "id": "c5095fc3",
   "metadata": {},
   "outputs": [
    {
     "data": {
      "text/plain": [
       "array([6.7509, 1.1734, 0.2186])"
      ]
     },
     "execution_count": 20,
     "metadata": {},
     "output_type": "execute_result"
    }
   ],
   "source": [
    "s"
   ]
  },
  {
   "cell_type": "code",
   "execution_count": 21,
   "id": "c4a2d715",
   "metadata": {},
   "outputs": [],
   "source": [
    "s = np.array([6.7509, 1.1734, 0])"
   ]
  },
  {
   "cell_type": "code",
   "execution_count": 22,
   "id": "78bf379d",
   "metadata": {},
   "outputs": [
    {
     "name": "stdout",
     "output_type": "stream",
     "text": [
      "[[6.7509 0.     0.    ]\n",
      " [0.     1.1734 0.    ]\n",
      " [0.     0.     0.    ]]\n"
     ]
    }
   ],
   "source": [
    "sd = np.diag(s)\n",
    "print(sd)"
   ]
  },
  {
   "cell_type": "code",
   "execution_count": 23,
   "id": "edfe919f",
   "metadata": {},
   "outputs": [
    {
     "name": "stdout",
     "output_type": "stream",
     "text": [
      "[[0. 0. 0. 0.]\n",
      " [0. 0. 0. 0.]\n",
      " [0. 0. 0. 0.]]\n"
     ]
    }
   ],
   "source": [
    "b = np.zeros((3,4))\n",
    "print(b)"
   ]
  },
  {
   "cell_type": "code",
   "execution_count": 24,
   "id": "70078a5a",
   "metadata": {},
   "outputs": [
    {
     "name": "stdout",
     "output_type": "stream",
     "text": [
      "[[6.7509 0.     0.     0.    ]\n",
      " [0.     1.1734 0.     0.    ]\n",
      " [0.     0.     0.     0.    ]]\n"
     ]
    }
   ],
   "source": [
    "b[:,:-1] = sd\n",
    "sigma = b\n",
    "print(sigma)"
   ]
  },
  {
   "cell_type": "code",
   "execution_count": 25,
   "id": "a20e96b9",
   "metadata": {
    "scrolled": true
   },
   "outputs": [
    {
     "name": "stdout",
     "output_type": "stream",
     "text": [
      "[[1 2 3 4]\n",
      " [1 1 2 3]\n",
      " [0 1 1 0]]\n",
      "[[ 1.0959  1.9567  3.0526  3.9542]\n",
      " [ 0.8764  1.0558  1.9322  3.0589]\n",
      " [-0.0559  1.0252  0.9693  0.0267]]\n"
     ]
    }
   ],
   "source": [
    "print(a)\n",
    "print(np.dot(np.dot(u,sigma),vh))"
   ]
  },
  {
   "cell_type": "markdown",
   "id": "17033bf6",
   "metadata": {},
   "source": [
    "### Another Example - an mxn matrix where m > n"
   ]
  },
  {
   "cell_type": "code",
   "execution_count": 26,
   "id": "cee59ed3",
   "metadata": {},
   "outputs": [
    {
     "name": "stdout",
     "output_type": "stream",
     "text": [
      "(5, 4)\n"
     ]
    }
   ],
   "source": [
    "a = np.array([[1,2,3,4],[1,1,2,3],[0,1,1,0],[0,2,2,0],[0,5,5,0]])\n",
    "print(a.shape)"
   ]
  },
  {
   "cell_type": "code",
   "execution_count": 27,
   "id": "b9274881",
   "metadata": {},
   "outputs": [],
   "source": [
    "u, s, vh = np.linalg.svd(a)"
   ]
  },
  {
   "cell_type": "code",
   "execution_count": 28,
   "id": "9802bc49",
   "metadata": {},
   "outputs": [
    {
     "name": "stdout",
     "output_type": "stream",
     "text": [
      "u is :- \n",
      "[[-0.5185 -0.5983  0.6108  0.     -0.    ]\n",
      " [-0.3389 -0.512  -0.7893 -0.      0.    ]\n",
      " [-0.1433  0.1125 -0.0114  0.9169  0.3549]\n",
      " [-0.2866  0.225  -0.0229  0.2719 -0.8904]\n",
      " [-0.7166  0.5626 -0.0572 -0.2921  0.2852]]\n",
      "\n",
      " s is :- \n",
      "[9.2296 4.4454 0.2312 0.    ]\n",
      "\n",
      " vh is :- \n",
      "[[-0.0929 -0.6149 -0.7079 -0.3349]\n",
      " [-0.2498  0.375   0.1252 -0.8839]\n",
      " [-0.7718  0.3846 -0.3872  0.3264]\n",
      " [ 0.5774  0.5774 -0.5774 -0.    ]]\n"
     ]
    }
   ],
   "source": [
    "print(\"u is :- \")\n",
    "print(u)\n",
    "print(\"\\n s is :- \")\n",
    "print(s)\n",
    "print(\"\\n vh is :- \")\n",
    "print(vh)"
   ]
  }
 ],
 "metadata": {
  "kernelspec": {
   "display_name": "Python 3 (ipykernel)",
   "language": "python",
   "name": "python3"
  },
  "language_info": {
   "codemirror_mode": {
    "name": "ipython",
    "version": 3
   },
   "file_extension": ".py",
   "mimetype": "text/x-python",
   "name": "python",
   "nbconvert_exporter": "python",
   "pygments_lexer": "ipython3",
   "version": "3.11.3"
  }
 },
 "nbformat": 4,
 "nbformat_minor": 5
}
