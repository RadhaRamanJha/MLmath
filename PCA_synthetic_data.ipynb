{
 "cells": [
  {
   "cell_type": "code",
   "execution_count": 1,
   "id": "6d3b22ee",
   "metadata": {},
   "outputs": [],
   "source": [
    "import numpy as np"
   ]
  },
  {
   "cell_type": "code",
   "execution_count": 2,
   "id": "7edc8e46",
   "metadata": {},
   "outputs": [
    {
     "name": "stdout",
     "output_type": "stream",
     "text": [
      "[[ 1  5]\n",
      " [ 3  7]\n",
      " [ 5 11]\n",
      " [ 7 14]\n",
      " [ 9 15]\n",
      " [13 17]\n",
      " [20 18]\n",
      " [20 19]\n",
      " [21 21]\n",
      " [24 22]\n",
      " [26 26]]\n"
     ]
    }
   ],
   "source": [
    "# Creating Data\n",
    "X = np.array([[1,3,5,7,9,13,20,20, 21, 24, 26],\n",
    "              [5,7,11, 14,15,17, 18, 19, 21, 22, 26]])\n",
    "X = X.T\n",
    "print(X)"
   ]
  },
  {
   "cell_type": "code",
   "execution_count": 3,
   "id": "8238c049",
   "metadata": {},
   "outputs": [
    {
     "data": {
      "image/png": "[encoded data removed]",
      "text/plain": [
       "<Figure size 640x480 with 1 Axes>"
      ]
     },
     "metadata": {},
     "output_type": "display_data"
    }
   ],
   "source": [
    "# Plotting the data\n",
    "import matplotlib.pyplot as plt\n",
    "plt.scatter(X[:,0], X[:,1])\n",
    "plt.xlabel(\"X1\")\n",
    "plt.ylabel(\"X2\")\n",
    "plt.show()"
   ]
  },
  {
   "cell_type": "code",
   "execution_count": 4,
   "id": "c476be00",
   "metadata": {},
   "outputs": [
    {
     "name": "stdout",
     "output_type": "stream",
     "text": [
      "[[-12.54545455 -10.90909091]\n",
      " [-10.54545455  -8.90909091]\n",
      " [ -8.54545455  -4.90909091]\n",
      " [ -6.54545455  -1.90909091]\n",
      " [ -4.54545455  -0.90909091]\n",
      " [ -0.54545455   1.09090909]\n",
      " [  6.45454545   2.09090909]\n",
      " [  6.45454545   3.09090909]\n",
      " [  7.45454545   5.09090909]\n",
      " [ 10.45454545   6.09090909]\n",
      " [ 12.45454545  10.09090909]]\n"
     ]
    }
   ],
   "source": [
    "# Normalize the data by shifting the mean of data to 0\n",
    "X_meaned = X - np.mean(X, axis = 0) \n",
    "# Take the mean along the column and substarct it from respective entry of the colunmn to force the mean to 0\n",
    "print(X_meaned)"
   ]
  },
  {
   "cell_type": "code",
   "execution_count": 5,
   "id": "fa1a56e2",
   "metadata": {},
   "outputs": [
    {
     "data": {
      "image/png": "[encoded data removed]",
      "text/plain": [
       "<Figure size 640x480 with 1 Axes>"
      ]
     },
     "metadata": {},
     "output_type": "display_data"
    }
   ],
   "source": [
    "# Plot both data together to see the change \n",
    "plt.figure()\n",
    "plt.scatter(X_meaned[:,0], X_meaned[:,1], label = \"Normalized Data\")\n",
    "plt.scatter(X[:,0], X[:,1], label = \"Data\")\n",
    "plt.legend(loc = \"upper left\")\n",
    "plt.xlabel(\"X1\")\n",
    "plt.ylabel(\"X2\")\n",
    "plt.show()"
   ]
  },
  {
   "cell_type": "markdown",
   "id": "ce8359e2",
   "metadata": {},
   "source": [
    "# Procedural Way"
   ]
  },
  {
   "cell_type": "code",
   "execution_count": 9,
   "id": "759f895b",
   "metadata": {},
   "outputs": [
    {
     "name": "stdout",
     "output_type": "stream",
     "text": [
      "[[80.87272727 54.95454545]\n",
      " [54.95454545 40.69090909]]\n"
     ]
    }
   ],
   "source": [
    "C = np.cov(X_meaned, rowvar= False) # Calculate the Covariance Matrix for the normalized data\n",
    "print(C)"
   ]
  },
  {
   "cell_type": "code",
   "execution_count": 11,
   "id": "8b166599",
   "metadata": {},
   "outputs": [
    {
     "name": "stdout",
     "output_type": "stream",
     "text": [
      "[119.29375452   2.26988184]\n",
      "[[ 0.81956216 -0.57299028]\n",
      " [ 0.57299028  0.81956216]]\n"
     ]
    }
   ],
   "source": [
    "# Calculate the eigen values and eigen vectors of the covariance matrix\n",
    "eval, evec = np.linalg.eig(C)\n",
    "print(eval)\n",
    "print(evec)\n",
    "# first_eval, second_eval = eval\n",
    "# first_evec, second_evec = "
   ]
  },
  {
   "cell_type": "markdown",
   "id": "fffda625",
   "metadata": {},
   "source": [
    "### In PCA we have to select the top 'm' eigen values hence will sort the eigen values"
   ]
  },
  {
   "cell_type": "code",
   "execution_count": 12,
   "id": "2e5cbd28",
   "metadata": {},
   "outputs": [],
   "source": [
    "sorted_index = np.argsort(eval)[::-1]\n",
    "sorted_eval = eval[sorted_index]\n",
    "# In this example it is already sorted but this cell is demonstrated for general purpose \n",
    "sorted_evec = evec[:,sorted_index]"
   ]
  },
  {
   "cell_type": "markdown",
   "id": "f87bbd48",
   "metadata": {},
   "source": [
    "### Specify the reduced Dimension "
   ]
  },
  {
   "cell_type": "code",
   "execution_count": 14,
   "id": "17e50672",
   "metadata": {},
   "outputs": [
    {
     "name": "stdout",
     "output_type": "stream",
     "text": [
      "[[0.81956216]\n",
      " [0.57299028]]\n"
     ]
    }
   ],
   "source": [
    "n = 1\n",
    "evec_subset = sorted_evec[:, 0:n]\n",
    "print(evec_subset)"
   ]
  },
  {
   "cell_type": "code",
   "execution_count": 16,
   "id": "2ca0701f",
   "metadata": {},
   "outputs": [
    {
     "name": "stdout",
     "output_type": "stream",
     "text": [
      "[[-16.53258291]\n",
      " [-13.74747803]\n",
      " [ -9.81639259]\n",
      " [ -6.45829743]\n",
      " [ -4.24618282]\n",
      " [  0.17804639]\n",
      " [  6.48797183]\n",
      " [  7.0609621 ]\n",
      " [  9.02650482]\n",
      " [ 12.05818159]\n",
      " [ 15.98926703]]\n"
     ]
    }
   ],
   "source": [
    "# Transform Data:\n",
    "X_reduced = np.dot(evec_subset.transpose(), X_meaned.transpose()).transpose()\n",
    "print(X_reduced)"
   ]
  },
  {
   "cell_type": "markdown",
   "id": "e84f7d37",
   "metadata": {},
   "source": [
    "### This is the one dimensional representation of the original Data"
   ]
  },
  {
   "cell_type": "markdown",
   "id": "c0bb8750",
   "metadata": {},
   "source": [
    "# Direct Method"
   ]
  },
  {
   "cell_type": "code",
   "execution_count": 17,
   "id": "c9bc50ee",
   "metadata": {},
   "outputs": [
    {
     "name": "stdout",
     "output_type": "stream",
     "text": [
      "[[ 16.53258291]\n",
      " [ 13.74747803]\n",
      " [  9.81639259]\n",
      " [  6.45829743]\n",
      " [  4.24618282]\n",
      " [ -0.17804639]\n",
      " [ -6.48797183]\n",
      " [ -7.0609621 ]\n",
      " [ -9.02650482]\n",
      " [-12.05818159]\n",
      " [-15.98926703]]\n"
     ]
    }
   ],
   "source": [
    "## Direct method \n",
    "from sklearn.decomposition import PCA\n",
    "pca = PCA(n_components = 1)\n",
    "pca.fit(X_meaned) # From this PCA will learn the 1st eigen vectors and other eigen vectors\n",
    "Xr = pca.transform(X_meaned) # This will project the meaned data onto the reduced dimensional space\n",
    "print(Xr)"
   ]
  }
 ],
 "metadata": {
  "kernelspec": {
   "display_name": "Python 3 (ipykernel)",
   "language": "python",
   "name": "python3"
  },
  "language_info": {
   "codemirror_mode": {
    "name": "ipython",
    "version": 3
   },
   "file_extension": ".py",
   "mimetype": "text/x-python",
   "name": "python",
   "nbconvert_exporter": "python",
   "pygments_lexer": "ipython3",
   "version": "3.11.3"
  }
 },
 "nbformat": 4,
 "nbformat_minor": 5
}
